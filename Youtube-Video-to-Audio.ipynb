{
 "cells": [
  {
   "cell_type": "code",
   "execution_count": 2,
   "metadata": {
    "collapsed": false
   },
   "outputs": [
    {
     "name": "stdout",
     "output_type": "stream",
     "text": [
      "[+] Welcome to Youtube downloader.\n",
      "normal:webm@640x360\n",
      "[MoviePy] Writing audio in downloaded-music\\Background video - sample.webm.mp3\n"
     ]
    },
    {
     "name": "stderr",
     "output_type": "stream",
     "text": [
      "100%|███████████████████████████████████████| 665/665 [00:02<00:00, 257.14it/s]\n"
     ]
    },
    {
     "name": "stdout",
     "output_type": "stream",
     "text": [
      "[MoviePy] Done.\n"
     ]
    }
   ],
   "source": [
    "import pafy\n",
    "import os\n",
    "import moviepy.editor as mp\n",
    "\n",
    "\n",
    "print(\"[+] Welcome to Youtube video to mp3 convertor.\")\n",
    "download_url = input(\"URL :\")\n",
    "\n",
    "#download_url  ='https://www.youtube.com/watch?v=jebJ9itYTJE'\n",
    "video = pafy.new(download_url)\n",
    "best = video.streams\n",
    "file_name = video.streams[0]\n",
    "print(file_name)\n",
    "\n",
    "directory = \"downloaded-music\"\n",
    "if not os.path.exists(directory):\n",
    "    os.makedirs(directory)\n",
    "x = file_name.download(filepath = directory)\n",
    "\n",
    "clip = mp.VideoFileClip(x)\n",
    "#printclip.size\n",
    "clip.audio.write_audiofile(x + \".mp3\")\n",
    "\n",
    "#os.remove(x)"
   ]
  },
  {
   "cell_type": "code",
   "execution_count": 3,
   "metadata": {
    "collapsed": false
   },
   "outputs": [
    {
     "name": "stderr",
     "output_type": "stream",
     "text": [
      "[NbConvertApp] Converting notebook Youtube-Video-to-Audio.ipynb to script\n",
      "[NbConvertApp] Writing 577 bytes to Youtube-Video-to-Audio.py\n"
     ]
    }
   ],
   "source": [
    "!jupyter nbconvert --to script Youtube-Video-to-Audio.ipynb"
   ]
  },
  {
   "cell_type": "code",
   "execution_count": null,
   "metadata": {
    "collapsed": true
   },
   "outputs": [],
   "source": []
  }
 ],
 "metadata": {
  "kernelspec": {
   "display_name": "Python [Root]",
   "language": "python",
   "name": "Python [Root]"
  },
  "language_info": {
   "codemirror_mode": {
    "name": "ipython",
    "version": 3
   },
   "file_extension": ".py",
   "mimetype": "text/x-python",
   "name": "python",
   "nbconvert_exporter": "python",
   "pygments_lexer": "ipython3",
   "version": "3.5.2"
  }
 },
 "nbformat": 4,
 "nbformat_minor": 0
}
